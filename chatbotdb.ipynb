{
 "cells": [
  {
   "cell_type": "code",
   "execution_count": 59,
   "metadata": {},
   "outputs": [],
   "source": [
    "from dotenv import load_dotenv      # loads environment variables from a .env file into Python environment\n",
    "import os                           # access environment variables once they've been loaded into the Python environmen"
   ]
  },
  {
   "cell_type": "code",
   "execution_count": 60,
   "metadata": {},
   "outputs": [],
   "source": [
    "# print(os.getenv('OPENAI_API_KEY'))"
   ]
  },
  {
   "cell_type": "code",
   "execution_count": 61,
   "metadata": {},
   "outputs": [],
   "source": [
    "from langchain_core.prompts import ChatPromptTemplate             \n",
    "\n",
    "#  Creating a template for the prompt\n",
    "template = \"\"\"\n",
    "Think You are data analyst in MySQL. Based on the schema below wirte Sql queries to answer the following question:\n",
    "{schema}   \n",
    "\n",
    "Question: {question}\n",
    "\n",
    "Sql Query:\n",
    "\"\"\"\n",
    "\n",
    "prompt = ChatPromptTemplate.from_template(template)"
   ]
  },
  {
   "cell_type": "code",
   "execution_count": 62,
   "metadata": {},
   "outputs": [],
   "source": [
    "# prompt.format(schema= \"myshema\", question=\"my question\")"
   ]
  },
  {
   "cell_type": "code",
   "execution_count": 63,
   "metadata": {},
   "outputs": [],
   "source": [
    "from sqlalchemy import create_engine\n",
    "from langchain_community.utilities import SQLDatabase\n",
    "\n",
    "# Define the connection URI\n",
    "mysql_uri = \"mysql+mysqlconnector://root:@localhost:3306/de\"\n",
    "\n",
    "# Create an SQLAlchemy engine\n",
    "engine = create_engine(mysql_uri)\n",
    "\n",
    "# Pass the engine to SQLDatabase\n",
    "db = SQLDatabase(engine)  # db is an instance of SQLDatabase\n"
   ]
  },
  {
   "cell_type": "code",
   "execution_count": 64,
   "metadata": {},
   "outputs": [
    {
     "data": {
      "text/plain": [
       "\"[('employee',), ('sales',), ('users',)]\""
      ]
     },
     "execution_count": 64,
     "metadata": {},
     "output_type": "execute_result"
    }
   ],
   "source": [
    "# db.run(\"SQL Query\") # runs the SQL query and returns the result\n",
    "db.run(\"show tables\") # returns a list of tables in the database"
   ]
  },
  {
   "cell_type": "code",
   "execution_count": 65,
   "metadata": {},
   "outputs": [],
   "source": [
    "# Get the schema of the database\n",
    "# Schema is a list of dictionaries, where each dictionary represents a column in a table\n",
    "\n",
    "def get_schema(_):    # For the RunnablePassthrough towork function should be consist with at least one parameter\n",
    "    schema = db.get_table_info()\n",
    "    return schema"
   ]
  },
  {
   "cell_type": "code",
   "execution_count": 66,
   "metadata": {},
   "outputs": [],
   "source": [
    "# get_schema(None)"
   ]
  },
  {
   "cell_type": "code",
   "execution_count": 67,
   "metadata": {},
   "outputs": [],
   "source": [
    "from langchain_core.output_parsers import StrOutputParser  # Get the Out Put as a String\n",
    "from langchain_core.runnables import RunnablePassthrough   \n",
    "from langchain_openai import ChatOpenAI                    # Importing the OpenAI Chat Model\n",
    "\n",
    "llm = ChatOpenAI(\n",
    "    temperature=0.5,\n",
    "    max_tokens=100,\n",
    "    model = \"gpt-3.5-turbo\"\n",
    "\n",
    ")\n",
    "\n",
    "sql_chain = (\n",
    "    RunnablePassthrough.assign(schema=get_schema) \n",
    "    | prompt\n",
    "    | llm\n",
    "    | StrOutputParser()\n",
    ")\n"
   ]
  },
  {
   "cell_type": "code",
   "execution_count": 68,
   "metadata": {},
   "outputs": [
    {
     "data": {
      "text/plain": [
       "'Since there is no table provided in the schema that contains information about customer name, city, country, and credit limit, it is not possible to write a SQL query to answer this question. Additional information or tables containing the required data would be needed to write the query.'"
      ]
     },
     "execution_count": 68,
     "metadata": {},
     "output_type": "execute_result"
    }
   ],
   "source": [
    "user_question = 'Give me the customer name, city ,country and which is having highest top10 credit limit '\n",
    "sql_chain.invoke({\"question\": user_question})"
   ]
  },
  {
   "cell_type": "code",
   "execution_count": 25,
   "metadata": {},
   "outputs": [],
   "source": [
    "template = \"\"\"Think you are Data Analyst and use Mysql databases. Based on the table schema below, question, sql query, and sql response, write a natural language response:\n",
    "{schema}\n",
    "\n",
    "Question: {question}\n",
    "SQL Query: {query}\n",
    "SQL Response: {response}\"\"\"\n",
    "prompt_response = ChatPromptTemplate.from_template(template)\n"
   ]
  },
  {
   "cell_type": "code",
   "execution_count": 26,
   "metadata": {},
   "outputs": [],
   "source": [
    "def run_query(query):\n",
    "    return db.run(query)\n"
   ]
  },
  {
   "cell_type": "code",
   "execution_count": 27,
   "metadata": {},
   "outputs": [],
   "source": [
    "full_chain = (\n",
    "    RunnablePassthrough.assign(query=sql_chain).assign(\n",
    "        schema = get_schema,\n",
    "        response = lambda vars: run_query(vars[\"query\"])\n",
    "    )\n",
    "    | prompt_response\n",
    "    | llm\n",
    "    | StrOutputParser()\n",
    ")\n"
   ]
  },
  {
   "cell_type": "code",
   "execution_count": 28,
   "metadata": {},
   "outputs": [
    {
     "data": {
      "text/plain": [
       "'There are a total of 5 customers in the database.'"
      ]
     },
     "execution_count": 28,
     "metadata": {},
     "output_type": "execute_result"
    }
   ],
   "source": [
    "user_question = 'how many customers are there?'\n",
    "full_chain.invoke({\"question\": user_question})"
   ]
  }
 ],
 "metadata": {
  "kernelspec": {
   "display_name": "chatDB",
   "language": "python",
   "name": "python3"
  },
  "language_info": {
   "codemirror_mode": {
    "name": "ipython",
    "version": 3
   },
   "file_extension": ".py",
   "mimetype": "text/x-python",
   "name": "python",
   "nbconvert_exporter": "python",
   "pygments_lexer": "ipython3",
   "version": "3.9.13"
  }
 },
 "nbformat": 4,
 "nbformat_minor": 2
}
