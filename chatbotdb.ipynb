{
 "cells": [
  {
   "cell_type": "code",
   "execution_count": 15,
   "metadata": {},
   "outputs": [],
   "source": [
    "from dotenv import load_dotenv      # loads environment variables from a .env file into Python environment\n",
    "import os                           # access environment variables once they've been loaded into the Python environmen\n",
    "from langchain_groq import ChatGroq   # Access Groq chat models"
   ]
  },
  {
   "cell_type": "code",
   "execution_count": 16,
   "metadata": {},
   "outputs": [],
   "source": [
    "# print(os.getenv('GROQ_API_KEY'))"
   ]
  },
  {
   "cell_type": "code",
   "execution_count": 17,
   "metadata": {},
   "outputs": [],
   "source": [
    "from langchain_core.prompts import ChatPromptTemplate             \n",
    "\n",
    "# Creating a template for the prompt\n",
    "template = \"\"\"\n",
    "You are a MySQL data analyst. Generate an SQL query to answer the given question based on the provided schema.\n",
    "\n",
    "Instructions:\n",
    "- Return only the SQL query, without explanations or additional formatting.\n",
    "- Ensure the query is on a single line with no newline characters (`\\n`) or backslashes (`\\`).\n",
    "\n",
    "Example:\n",
    "Question: How many customers are there?\n",
    "Output: SELECT COUNT(*) FROM customers;\n",
    "\n",
    "Now, generate the SQL query:\n",
    "\n",
    "Schema: {schema}    \n",
    "\n",
    "Question: {question}\n",
    "\n",
    "SQL Query:\n",
    "\"\"\"\n",
    "\n",
    "prompt = ChatPromptTemplate.from_template(template)\n"
   ]
  },
  {
   "cell_type": "code",
   "execution_count": 18,
   "metadata": {},
   "outputs": [],
   "source": [
    "# prompt.format(schema= \"myshema\", question=\"my question\")"
   ]
  },
  {
   "cell_type": "code",
   "execution_count": 19,
   "metadata": {},
   "outputs": [],
   "source": [
    "from sqlalchemy import create_engine\n",
    "from langchain_community.utilities import SQLDatabase\n",
    "\n",
    "# Define the connection URI\n",
    "mysql_uri = \"mysql+mysqlconnector://root:@localhost:3306/classicmodels\"\n",
    "\n",
    "# Create an SQLAlchemy engine\n",
    "engine = create_engine(mysql_uri)\n",
    "\n",
    "# Pass the engine to SQLDatabase\n",
    "db = SQLDatabase(engine)  # db is an instance of SQLDatabase\n"
   ]
  },
  {
   "cell_type": "code",
   "execution_count": 20,
   "metadata": {},
   "outputs": [
    {
     "data": {
      "text/plain": [
       "\"[('customers',), ('employees',), ('offices',), ('orderdetails',), ('orders',), ('payments',), ('productlines',), ('products',)]\""
      ]
     },
     "execution_count": 20,
     "metadata": {},
     "output_type": "execute_result"
    }
   ],
   "source": [
    "# db.run(\"SQL Query\") # runs the SQL query and returns the result\n",
    "db.run(\"show tables\") # returns a list of tables in the database"
   ]
  },
  {
   "cell_type": "code",
   "execution_count": 21,
   "metadata": {},
   "outputs": [],
   "source": [
    "# Get the schema of the database\n",
    "# Schema is a list of dictionaries, where each dictionary represents a column in a table\n",
    "\n",
    "def get_schema(_):    # For the RunnablePassthrough towork function should be consist with at least one parameter\n",
    "    schema = db.get_table_info()\n",
    "    return schema"
   ]
  },
  {
   "cell_type": "code",
   "execution_count": 22,
   "metadata": {},
   "outputs": [],
   "source": [
    "# get_schema(None)"
   ]
  },
  {
   "cell_type": "code",
   "execution_count": 23,
   "metadata": {},
   "outputs": [],
   "source": [
    "from langchain_core.output_parsers import StrOutputParser  # Get the Out Put as a String\n",
    "from langchain_core.runnables import RunnablePassthrough   \n",
    "from langchain_openai import ChatOpenAI                    # Importing the OpenAI Chat Model\n",
    "\n",
    "# llm = ChatOpenAI(\n",
    "#     temperature=0.5,\n",
    "#     max_tokens=100,\n",
    "#     model = \"gpt-3.5-turbo\"\n",
    "\n",
    "# )\n",
    "\n",
    "llm = ChatGroq(model=\"llama3-8b-8192\",temperature = 0.5)\n",
    "\n",
    "sql_chain = (\n",
    "    RunnablePassthrough.assign(schema=get_schema) \n",
    "    | prompt\n",
    "    | llm\n",
    "    | StrOutputParser()\n",
    ")\n"
   ]
  },
  {
   "cell_type": "code",
   "execution_count": 24,
   "metadata": {},
   "outputs": [
    {
     "data": {
      "text/plain": [
       "'SELECT COUNT(*) FROM customers;'"
      ]
     },
     "execution_count": 24,
     "metadata": {},
     "output_type": "execute_result"
    }
   ],
   "source": [
    "user_question = 'How many customer are there'\n",
    "sql_chain.invoke({\"question\": user_question})"
   ]
  },
  {
   "cell_type": "code",
   "execution_count": 25,
   "metadata": {},
   "outputs": [],
   "source": [
    "template = \"\"\"Think you are Data Analyst and use Mysql databases. Based on the table schema below, question, sql query, and sql response, write a natural language response:\n",
    "{schema}\n",
    "\n",
    "Question: {question}\n",
    "SQL Query: {query}\n",
    "SQL Response: {response}\"\"\"\n",
    "prompt_response = ChatPromptTemplate.from_template(template)\n"
   ]
  },
  {
   "cell_type": "code",
   "execution_count": 26,
   "metadata": {},
   "outputs": [],
   "source": [
    "def run_query(query):\n",
    "    return db.run(query)\n"
   ]
  },
  {
   "cell_type": "code",
   "execution_count": 27,
   "metadata": {},
   "outputs": [],
   "source": [
    "full_chain = (\n",
    "    RunnablePassthrough.assign(query=sql_chain).assign(\n",
    "        schema = get_schema,\n",
    "        response = lambda vars: run_query(vars[\"query\"])\n",
    "    )\n",
    "    | prompt_response\n",
    "    | llm\n",
    "    | StrOutputParser()\n",
    ")\n"
   ]
  },
  {
   "cell_type": "code",
   "execution_count": 28,
   "metadata": {},
   "outputs": [
    {
     "data": {
      "text/plain": [
       "'Here is the natural language response:\\n\\nBased on the provided database, we can identify customers who have made payments greater than $100,000. After running the SQL query, we found that the following customers have made such payments:\\n\\n* Mini Gifts Distributors Ltd. with a phone number of 4155551450 and payment amounts of $101,244.59 and $111,654.40.\\n* Euro+ Shopping Channel with a phone number of (91) 555 94 44 and payment amounts of $116,208.40 and $120,166.58.\\n* Dragon Souveniers, Ltd. with a phone number of +65 221 7555 and a payment amount of $105,743.00.\\n\\nThese customers have made significant payments, which may indicate large transactions or long-term relationships with the company.'"
      ]
     },
     "execution_count": 28,
     "metadata": {},
     "output_type": "execute_result"
    }
   ],
   "source": [
    "user_question = 'Give me the customer name, phone and payment amount greater than 100000?'\n",
    "full_chain.invoke({\"question\": user_question})"
   ]
  }
 ],
 "metadata": {
  "kernelspec": {
   "display_name": "chatDB",
   "language": "python",
   "name": "python3"
  },
  "language_info": {
   "codemirror_mode": {
    "name": "ipython",
    "version": 3
   },
   "file_extension": ".py",
   "mimetype": "text/x-python",
   "name": "python",
   "nbconvert_exporter": "python",
   "pygments_lexer": "ipython3",
   "version": "3.9.13"
  }
 },
 "nbformat": 4,
 "nbformat_minor": 2
}
