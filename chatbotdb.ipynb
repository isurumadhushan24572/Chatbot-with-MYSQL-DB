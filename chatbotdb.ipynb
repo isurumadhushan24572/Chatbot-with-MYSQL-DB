{
 "cells": [
  {
   "cell_type": "code",
   "execution_count": 17,
   "metadata": {},
   "outputs": [],
   "source": [
    "from dotenv import load_dotenv      # loads environment variables from a .env file into Python environment\n",
    "import os                           # access environment variables once they've been loaded into the Python environmen\n",
    "from langchain_groq import ChatGroq   # Access Groq chat models"
   ]
  },
  {
   "cell_type": "code",
   "execution_count": 18,
   "metadata": {},
   "outputs": [
    {
     "name": "stdout",
     "output_type": "stream",
     "text": [
      "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\n"
     ]
    }
   ],
   "source": [
    "print(os.getenv('GROQ_API_KEY'))"
   ]
  },
  {
   "cell_type": "code",
   "execution_count": 19,
   "metadata": {},
   "outputs": [],
   "source": [
    "from langchain_core.prompts import ChatPromptTemplate             \n",
    "\n",
    "#  Creating a template for the prompt\n",
    "template = \"\"\"\n",
    "Think You are data analyst in MySQL. Based on the schema below wirte MySql queries to answer the following question:\n",
    "Generate an SQL query for the following request:\\n{question}\\nOnly return the SQL query without any explanations or formatting:\n",
    "Also when providing the sql query remove \\n and \\ from th content:\n",
    "Example question How many customer are there:\n",
    "then out put should be as SELECT COUNT(*) FROM customers:\n",
    "Your Turn:\n",
    "{schema}   \n",
    "\n",
    "Question: {question}\n",
    "\n",
    "Sql Query:\n",
    "\"\"\"\n",
    "\n",
    "prompt = ChatPromptTemplate.from_template(template)"
   ]
  },
  {
   "cell_type": "code",
   "execution_count": 20,
   "metadata": {},
   "outputs": [],
   "source": [
    "# prompt.format(schema= \"myshema\", question=\"my question\")"
   ]
  },
  {
   "cell_type": "code",
   "execution_count": 21,
   "metadata": {},
   "outputs": [],
   "source": [
    "from sqlalchemy import create_engine\n",
    "from langchain_community.utilities import SQLDatabase\n",
    "\n",
    "# Define the connection URI\n",
    "mysql_uri = \"mysql+mysqlconnector://root:@localhost:3306/classicmodels\"\n",
    "\n",
    "# Create an SQLAlchemy engine\n",
    "engine = create_engine(mysql_uri)\n",
    "\n",
    "# Pass the engine to SQLDatabase\n",
    "db = SQLDatabase(engine)  # db is an instance of SQLDatabase\n"
   ]
  },
  {
   "cell_type": "code",
   "execution_count": 22,
   "metadata": {},
   "outputs": [
    {
     "data": {
      "text/plain": [
       "\"[('customers',), ('employees',), ('offices',), ('orderdetails',), ('orders',), ('payments',), ('productlines',), ('products',)]\""
      ]
     },
     "execution_count": 22,
     "metadata": {},
     "output_type": "execute_result"
    }
   ],
   "source": [
    "# db.run(\"SQL Query\") # runs the SQL query and returns the result\n",
    "db.run(\"show tables\") # returns a list of tables in the database"
   ]
  },
  {
   "cell_type": "code",
   "execution_count": 23,
   "metadata": {},
   "outputs": [],
   "source": [
    "# Get the schema of the database\n",
    "# Schema is a list of dictionaries, where each dictionary represents a column in a table\n",
    "\n",
    "def get_schema(_):    # For the RunnablePassthrough towork function should be consist with at least one parameter\n",
    "    schema = db.get_table_info()\n",
    "    return schema"
   ]
  },
  {
   "cell_type": "code",
   "execution_count": 24,
   "metadata": {},
   "outputs": [],
   "source": [
    "# get_schema(None)"
   ]
  },
  {
   "cell_type": "code",
   "execution_count": 31,
   "metadata": {},
   "outputs": [],
   "source": [
    "from langchain_core.output_parsers import StrOutputParser  # Get the Out Put as a String\n",
    "from langchain_core.runnables import RunnablePassthrough   \n",
    "from langchain_openai import ChatOpenAI                    # Importing the OpenAI Chat Model\n",
    "\n",
    "# llm = ChatOpenAI(\n",
    "#     temperature=0.5,\n",
    "#     max_tokens=100,\n",
    "#     model = \"gpt-3.5-turbo\"\n",
    "\n",
    "# )\n",
    "\n",
    "llm = ChatGroq(model=\"llama3-8b-8192\",temperature = 0.5)\n",
    "\n",
    "sql_chain = (\n",
    "    RunnablePassthrough.assign(schema=get_schema) \n",
    "    | prompt\n",
    "    | llm\n",
    "    | StrOutputParser()\n",
    ")\n"
   ]
  },
  {
   "cell_type": "code",
   "execution_count": 32,
   "metadata": {},
   "outputs": [
    {
     "data": {
      "text/plain": [
       "'SELECT COUNT(*) FROM customers'"
      ]
     },
     "execution_count": 32,
     "metadata": {},
     "output_type": "execute_result"
    }
   ],
   "source": [
    "user_question = 'How many customer are there'\n",
    "sql_chain.invoke({\"question\": user_question})"
   ]
  },
  {
   "cell_type": "code",
   "execution_count": 33,
   "metadata": {},
   "outputs": [],
   "source": [
    "template = \"\"\"Think you are Data Analyst and use Mysql databases. Based on the table schema below, question, sql query, and sql response, write a natural language response:\n",
    "{schema}\n",
    "\n",
    "Question: {question}\n",
    "SQL Query: {query}\n",
    "SQL Response: {response}\"\"\"\n",
    "prompt_response = ChatPromptTemplate.from_template(template)\n"
   ]
  },
  {
   "cell_type": "code",
   "execution_count": 34,
   "metadata": {},
   "outputs": [],
   "source": [
    "def run_query(query):\n",
    "    return db.run(query)\n"
   ]
  },
  {
   "cell_type": "code",
   "execution_count": 35,
   "metadata": {},
   "outputs": [],
   "source": [
    "full_chain = (\n",
    "    RunnablePassthrough.assign(query=sql_chain).assign(\n",
    "        schema = get_schema,\n",
    "        response = lambda vars: run_query(vars[\"query\"])\n",
    "    )\n",
    "    | prompt_response\n",
    "    | llm\n",
    "    | StrOutputParser()\n",
    ")\n"
   ]
  },
  {
   "cell_type": "code",
   "execution_count": 36,
   "metadata": {},
   "outputs": [
    {
     "data": {
      "text/plain": [
       "'Based on the provided table schema and data, here is the natural language response:\\n\\nThe customers who have made payments greater than $100,000 are:\\n\\n* Mini Gifts Distributors Ltd., with phone number 4155551450, has made payments of $101,244.59 and $111,654.40.\\n* Euro+ Shopping Channel, with phone number (91) 555 94 44, has made payments of $116,208.40 and $120,166.58.\\n* Dragon Souveniers, Ltd., with phone number +65 221 7555, has made a payment of $105,743.00.\\n\\nThese customers have made significant payments, indicating a high level of spending or investment.'"
      ]
     },
     "execution_count": 36,
     "metadata": {},
     "output_type": "execute_result"
    }
   ],
   "source": [
    "user_question = 'Give me the customer name, phone and payment amount greater than 100000?'\n",
    "full_chain.invoke({\"question\": user_question})"
   ]
  },
  {
   "cell_type": "code",
   "execution_count": null,
   "metadata": {},
   "outputs": [],
   "source": []
  }
 ],
 "metadata": {
  "kernelspec": {
   "display_name": "chatDB",
   "language": "python",
   "name": "python3"
  },
  "language_info": {
   "codemirror_mode": {
    "name": "ipython",
    "version": 3
   },
   "file_extension": ".py",
   "mimetype": "text/x-python",
   "name": "python",
   "nbconvert_exporter": "python",
   "pygments_lexer": "ipython3",
   "version": "3.9.13"
  }
 },
 "nbformat": 4,
 "nbformat_minor": 2
}
